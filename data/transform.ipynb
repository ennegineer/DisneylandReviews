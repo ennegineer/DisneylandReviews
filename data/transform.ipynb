{
 "cells": [
  {
   "cell_type": "code",
   "execution_count": 1,
   "metadata": {},
   "outputs": [],
   "source": [
    "# Import dependencies\n",
    "import pandas as pd\n",
    "import datetime as dt\n"
   ]
  },
  {
   "cell_type": "code",
   "execution_count": 2,
   "metadata": {},
   "outputs": [
    {
     "data": {
      "text/html": [
       "<div>\n",
       "<style scoped>\n",
       "    .dataframe tbody tr th:only-of-type {\n",
       "        vertical-align: middle;\n",
       "    }\n",
       "\n",
       "    .dataframe tbody tr th {\n",
       "        vertical-align: top;\n",
       "    }\n",
       "\n",
       "    .dataframe thead th {\n",
       "        text-align: right;\n",
       "    }\n",
       "</style>\n",
       "<table border=\"1\" class=\"dataframe\">\n",
       "  <thead>\n",
       "    <tr style=\"text-align: right;\">\n",
       "      <th></th>\n",
       "      <th>Review_ID</th>\n",
       "      <th>Rating</th>\n",
       "      <th>Year_Month</th>\n",
       "      <th>Reviewer_Location</th>\n",
       "      <th>Review_Text</th>\n",
       "      <th>Branch</th>\n",
       "    </tr>\n",
       "  </thead>\n",
       "  <tbody>\n",
       "    <tr>\n",
       "      <th>0</th>\n",
       "      <td>670801367</td>\n",
       "      <td>5</td>\n",
       "      <td>2019-4</td>\n",
       "      <td>United States</td>\n",
       "      <td>This place has always been and forever will be...</td>\n",
       "      <td>Disneyland_California</td>\n",
       "    </tr>\n",
       "    <tr>\n",
       "      <th>1</th>\n",
       "      <td>670760708</td>\n",
       "      <td>5</td>\n",
       "      <td>2019-4</td>\n",
       "      <td>United States</td>\n",
       "      <td>A great day of simple fun and thrills. Bring c...</td>\n",
       "      <td>Disneyland_California</td>\n",
       "    </tr>\n",
       "    <tr>\n",
       "      <th>2</th>\n",
       "      <td>670565072</td>\n",
       "      <td>4</td>\n",
       "      <td>2019-5</td>\n",
       "      <td>Australia</td>\n",
       "      <td>All and all a great day was had. The crowds ar...</td>\n",
       "      <td>Disneyland_California</td>\n",
       "    </tr>\n",
       "    <tr>\n",
       "      <th>3</th>\n",
       "      <td>670544335</td>\n",
       "      <td>5</td>\n",
       "      <td>2019-4</td>\n",
       "      <td>United States</td>\n",
       "      <td>Having been to the Florida location numerous t...</td>\n",
       "      <td>Disneyland_California</td>\n",
       "    </tr>\n",
       "    <tr>\n",
       "      <th>4</th>\n",
       "      <td>670472278</td>\n",
       "      <td>5</td>\n",
       "      <td>2019-4</td>\n",
       "      <td>Canada</td>\n",
       "      <td>Had the 4 day pass, spent 3 at DL and one at C...</td>\n",
       "      <td>Disneyland_California</td>\n",
       "    </tr>\n",
       "  </tbody>\n",
       "</table>\n",
       "</div>"
      ],
      "text/plain": [
       "   Review_ID  Rating Year_Month Reviewer_Location  \\\n",
       "0  670801367       5     2019-4     United States   \n",
       "1  670760708       5     2019-4     United States   \n",
       "2  670565072       4     2019-5         Australia   \n",
       "3  670544335       5     2019-4     United States   \n",
       "4  670472278       5     2019-4            Canada   \n",
       "\n",
       "                                         Review_Text                 Branch  \n",
       "0  This place has always been and forever will be...  Disneyland_California  \n",
       "1  A great day of simple fun and thrills. Bring c...  Disneyland_California  \n",
       "2  All and all a great day was had. The crowds ar...  Disneyland_California  \n",
       "3  Having been to the Florida location numerous t...  Disneyland_California  \n",
       "4  Had the 4 day pass, spent 3 at DL and one at C...  Disneyland_California  "
      ]
     },
     "execution_count": 2,
     "metadata": {},
     "output_type": "execute_result"
    }
   ],
   "source": [
    "# Import data\n",
    "file = \"DisneyReviews.csv\"\n",
    "reviewsdf = pd.read_csv(file, encoding='latin-1')\n",
    "reviewsdf.head()"
   ]
  }
 ],
 "metadata": {
  "kernelspec": {
   "display_name": "Python 3.8.3 ('base')",
   "language": "python",
   "name": "python3"
  },
  "language_info": {
   "codemirror_mode": {
    "name": "ipython",
    "version": 3
   },
   "file_extension": ".py",
   "mimetype": "text/x-python",
   "name": "python",
   "nbconvert_exporter": "python",
   "pygments_lexer": "ipython3",
   "version": "3.8.3"
  },
  "orig_nbformat": 4,
  "vscode": {
   "interpreter": {
    "hash": "a3be476900ddd9bc3aad9b14ad48e61f69297dec4690a523b21911e7a95d3a31"
   }
  }
 },
 "nbformat": 4,
 "nbformat_minor": 2
}
